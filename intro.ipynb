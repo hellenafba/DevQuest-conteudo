{
  "cells": [
    {
      "cell_type": "markdown",
      "metadata": {
        "id": "view-in-github",
        "colab_type": "text"
      },
      "source": [
        "<a href=\"https://colab.research.google.com/github/hellenafba/DevQuest-conteudo/blob/main/intro.ipynb\" target=\"_parent\"><img src=\"https://colab.research.google.com/assets/colab-badge.svg\" alt=\"Open In Colab\"/></a>"
      ]
    },
    {
      "cell_type": "code",
      "execution_count": null,
      "id": "7d362ac1",
      "metadata": {
        "id": "7d362ac1",
        "outputId": "e8895c11-3ed3-4b52-b01a-48b913ab8b7c"
      },
      "outputs": [
        {
          "name": "stdout",
          "output_type": "stream",
          "text": [
            "Dataset: MNIST\n",
            "Número de amostras: 1000\n",
            "Tipo da variável 'mostrar_graficos': <class 'bool'>\n"
          ]
        }
      ],
      "source": [
        "# Introdução à Programação com Python\n",
        "# Pipeline de Análise de Dígitos Manuscritos\n",
        "# 1. IMPORTAÇÃO DE BIBLIOTECAS\n",
        "import numpy as np\n",
        "import matplotlib.pyplot as plt\n",
        "from sklearn.datasets import fetch_openml\n",
        "from sklearn.model_selection import train_test_split\n",
        "from sklearn.neighbors import KNeighborsClassifier\n",
        "from sklearn.metrics import accuracy_score\n",
        "\n",
        "# 2. VARIÁVEIS E TIPOS DE DADOS\n",
        "\n",
        "# Variáveis numéricas\n",
        "numero_amostras = 1000\n",
        "taxa_divisao = 0.2\n",
        "vizinhos = 3\n",
        "\n",
        "# Variáveis de texto\n",
        "nome_dataset = \"MNIST\"\n",
        "titulo_grafico = \"Dígitos Manuscritos\"\n",
        "\n",
        "# Variável booleana\n",
        "mostrar_graficos = True\n",
        "\n",
        "print(f\"Dataset: {nome_dataset}\")\n",
        "print(f\"Número de amostras: {numero_amostras}\")\n",
        "print(f\"Tipo da variável 'mostrar_graficos': {type(mostrar_graficos)}\")\n"
      ]
    },
    {
      "cell_type": "code",
      "source": [
        "class Pessoa():\n",
        "  def _init_(self,nome,idade):\n",
        "    self.name = name\n",
        "    self.idade = idade\n",
        "\n",
        "  def apresentar(self):\n",
        "    return f\"olá, meu nome é {self.name} e tenho {self.idade} anos.\""
      ],
      "metadata": {
        "id": "gPwK2vdxoAeq"
      },
      "id": "gPwK2vdxoAeq",
      "execution_count": null,
      "outputs": []
    },
    {
      "cell_type": "code",
      "execution_count": null,
      "id": "b57143ff",
      "metadata": {
        "id": "b57143ff",
        "outputId": "c776ed2e-3409-4270-f937-8f6d715bdacf"
      },
      "outputs": [
        {
          "name": "stdout",
          "output_type": "stream",
          "text": [
            "Dígitos de interesse: [0, 1, 2, 3, 4, 5, 6, 7, 8, 9]\n",
            "Tipo da lista: <class 'list'>\n"
          ]
        }
      ],
      "source": [
        "\n",
        "# 3. ESTRUTURAS DE DADOS\n",
        "\n",
        "# Lista com os dígitos que queremos analisar\n",
        "digitos_interesse = [0, 1, 2, 3, 4, 5, 6, 7, 8, 9]\n",
        "\n",
        "# Dicionário para armazenar estatísticas\n",
        "estatisticas = {\n",
        "    \"total_imagens\": 0,\n",
        "    \"dimensao_imagem\": (28, 28),\n",
        "    \"acuracia\": 0.0\n",
        "}\n",
        "\n",
        "print(f\"Dígitos de interesse: {digitos_interesse}\")\n",
        "print(f\"Tipo da lista: {type(digitos_interesse)}\")\n",
        "\n",
        "# 4. FUNÇÃO PARA CARREGAR DADOS\n",
        "def carregar_dados(n_amostras):\n",
        "    \"\"\"Carrega e prepara os dados do MNIST\"\"\"\n",
        "    print(\"Carregando dados do MNIST...\")\n",
        "\n",
        "    # Carrega o dataset\n",
        "    mnist = fetch_openml('mnist_784', version=1, as_frame=False)\n",
        "\n",
        "    # Seleciona apenas uma amostra dos dados\n",
        "    X = mnist.data[:n_amostras]\n",
        "    y = mnist.target[:n_amostras].astype(int)\n",
        "\n",
        "    return X, y\n"
      ]
    },
    {
      "cell_type": "code",
      "execution_count": null,
      "id": "61033549",
      "metadata": {
        "id": "61033549",
        "outputId": "997c3600-08f0-4e2d-e8c1-1f6ffcee99a7"
      },
      "outputs": [
        {
          "data": {
            "text/plain": [
              "<Figure size 640x480 with 0 Axes>"
            ]
          },
          "metadata": {},
          "output_type": "display_data"
        }
      ],
      "source": [
        "\n",
        "# 5. FUNÇÃO PARA VISUALIZAR DADOS\n",
        "def mostrar_exemplos(X, y, n_exemplos=10):\n",
        "    \"\"\"Mostra exemplos de dígitos\"\"\"\n",
        "    if not mostrar_graficos:\n",
        "        return\n",
        "\n",
        "    fig, axes = plt.subplots(2, 5, figsize=(12, 6))\n",
        "    fig.suptitle(titulo_grafico)\n",
        "\n",
        "    for i in range(n_exemplos):\n",
        "        linha = i // 5\n",
        "        coluna = i % 5\n",
        "\n",
        "        # Reshape da imagem 784 -> 28x28\n",
        "        imagem = X[i].reshape(28, 28)\n",
        "\n",
        "        axes[linha, coluna].imshow(imagem, cmap='gray')\n",
        "        axes[linha, coluna].set_title(f'Dígito: {y[i]}')\n",
        "        axes[linha, coluna].axis('off')\n",
        "\n",
        "plt.tight_layout()\n",
        "plt.show()\n",
        "\n",
        "\n"
      ]
    },
    {
      "cell_type": "code",
      "execution_count": null,
      "id": "e47cd620",
      "metadata": {
        "id": "e47cd620"
      },
      "outputs": [],
      "source": [
        "# 6. FUNÇÃO PARA TREINAR MODELO\n",
        "\n",
        "def treinar_modelo(X_treino, y_treino, n_vizinhos):\n",
        "    \"\"\"Treina um modelo de classificação\"\"\"\n",
        "    modelo = KNeighborsClassifier(n_neighbors=n_vizinhos)\n",
        "    modelo.fit(X_treino, y_treino)\n",
        "    return modelo\n",
        "\n",
        "# 7. FUNÇÃO PARA AVALIAR MODELO\n",
        "def avaliar_modelo(modelo, X_teste, y_teste):\n",
        "    \"\"\"Avalia a performance do modelo\"\"\"\n",
        "    previsoes = modelo.predict(X_teste)\n",
        "    acuracia = accuracy_score(y_teste, previsoes)\n",
        "    return acuracia, previsoes"
      ]
    },
    {
      "cell_type": "code",
      "execution_count": null,
      "id": "bfddd75b",
      "metadata": {
        "id": "bfddd75b"
      },
      "outputs": [],
      "source": [
        "\n",
        "# 8. PIPELINE PRINCIPAL\n",
        "def main():\n",
        "    \"\"\"Função principal que executa todo o pipeline\"\"\"\n",
        "\n",
        "    # Carrega os dados\n",
        "    X, y = carregar_dados(numero_amostras)\n",
        "\n",
        "    # Atualiza estatísticas\n",
        "    estatisticas[\"total_imagens\"] = len(X)\n",
        "\n",
        "    print(f\"Shape dos dados: {X.shape}\")\n",
        "    print(f\"Shape dos labels: {y.shape}\")\n",
        "\n",
        "    # Mostra exemplos\n",
        "    mostrar_exemplos(X, y)\n",
        "\n",
        "    # Divide os dados em treino e teste\n",
        "    X_treino, X_teste, y_treino, y_teste = train_test_split(\n",
        "        X, y, test_size=taxa_divisao, random_state=42\n",
        "    )\n",
        "\n",
        "    print(f\"Dados de treino: {X_treino.shape}\")\n",
        "    print(f\"Dados de teste: {X_teste.shape}\")\n",
        "\n",
        "    # Treina o modelo\n",
        "    print(\"Treinando modelo...\")\n",
        "    modelo = treinar_modelo(X_treino, y_treino, vizinhos)\n",
        "\n",
        "    # Avalia o modelo\n",
        "    acuracia, previsoes = avaliar_modelo(modelo, X_teste, y_teste)\n",
        "    estatisticas[\"acuracia\"] = acuracia\n",
        "\n",
        "    print(f\"Acurácia do modelo: {acuracia:.2%}\")\n",
        "\n",
        "    # Mostra alguns resultados\n",
        "    print(\"\\nPrimeiras 10 previsões vs realidade:\")\n",
        "    for i in range(10):\n",
        "        print(f\"Previsto: {previsoes[i]}, Real: {y_teste[i]}\")\n",
        "\n",
        "    # Exibe estatísticas finais\n",
        "    print(\"\\n--- ESTATÍSTICAS FINAIS ---\")\n",
        "    for chave, valor in estatisticas.items():\n",
        "        print(f\"{chave}: {valor}\")\n",
        "\n",
        "# 9. ESTRUTURAS CONDICIONAIS E LOOPS\n",
        "\n",
        "# Estrutura condicional\n",
        "if __name__ == \"__main__\":\n",
        "    print(\"=\" * 50)\n",
        "    print(\"INICIANDO PIPELINE DE ANÁLISE DE DÍGITOS\")\n",
        "    print(\"=\" * 50)\n",
        "\n",
        "    # Loop para mostrar tipos de dados\n",
        "    variaveis_exemplo = [numero_amostras, nome_dataset, mostrar_graficos, digitos_interesse]\n",
        "\n",
        "    print(\"\\nTipos de dados utilizados:\")\n",
        "    for var in variaveis_exemplo:\n",
        "        print(f\"Valor: {var} | Tipo: {type(var).__name__}\")\n",
        "\n",
        "    # Executa o pipeline principal\n",
        "    main()\n",
        "\n",
        "    print(\"\\n\" + \"=\" * 50)\n",
        "    print(\"PIPELINE FINALIZADO!\")\n",
        "    print(\"=\" * 50)\n"
      ]
    }
  ],
  "metadata": {
    "kernelspec": {
      "display_name": "base",
      "language": "python",
      "name": "python3"
    },
    "language_info": {
      "codemirror_mode": {
        "name": "ipython",
        "version": 3
      },
      "file_extension": ".py",
      "mimetype": "text/x-python",
      "name": "python",
      "nbconvert_exporter": "python",
      "pygments_lexer": "ipython3",
      "version": "3.12.7"
    },
    "colab": {
      "provenance": [],
      "include_colab_link": true
    }
  },
  "nbformat": 4,
  "nbformat_minor": 5
}